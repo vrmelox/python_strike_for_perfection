{
 "cells": [
  {
   "cell_type": "markdown",
   "id": "18f38f6a-73c7-4685-9415-a4c19c5fbc93",
   "metadata": {},
   "source": [
    "# Tâches d'analyses\n"
   ]
  },
  {
   "cell_type": "markdown",
   "id": "2c8267dc-9168-40dd-ad2c-e86ba870d468",
   "metadata": {},
   "source": [
    "Tâches d'analyse :\n",
    "Ventes par produit :\n",
    "\n",
    "Calculer les ventes totales pour chaque produit (en termes de montant total et quantité).\n",
    "Identifier le produit le plus vendu et celui qui a généré le plus de revenus.\n",
    "Performance par région :\n",
    "\n",
    "Analyser les ventes totales par région.\n",
    "Identifier la région avec les meilleures performances en termes de chiffre d'affaires.\n",
    "Analyse temporelle :\n",
    "\n",
    "Identifier les mois avec les ventes les plus élevées.\n",
    "Analyser la tendance des ventes sur l'année : les mois de pointe et les mois faibles.\n",
    "Comportement des clients :\n",
    "\n",
    "Analyser le nombre de ventes par client.\n",
    "Identifier les clients les plus fidèles (ceux ayant réalisé le plus d'achats).\n",
    "Calculer le montant moyen dépensé par client.\n",
    "Méthode de paiement :\n",
    "\n",
    "Analyser la répartition des ventes par méthode de paiement.\n",
    "Identifier si certaines méthodes de paiement sont plus populaires que d'autres.\n",
    "Prix moyen des produits :\n",
    "\n",
    "Calculer le prix moyen des produits vendus, et identifier s'il y a des produits dont les prix sont plus élevés en moyenne.\n",
    "Détection d'anomalies :\n",
    "\n",
    "Identifier les transactions qui semblent anormalement élevées ou faibles par rapport à la norme.\n",
    "Prévision des ventes :\n",
    "\n",
    "Créer une prévision des ventes pour les prochains mois sur la base des données existantes."
   ]
  },
  {
   "cell_type": "markdown",
   "id": "5e3796f3-e501-4e9b-8d5c-dc628fa756ba",
   "metadata": {},
   "source": [
    "# Analyse"
   ]
  },
  {
   "cell_type": "code",
   "execution_count": 3,
   "id": "b902f8a0-b8bb-4fe0-8341-b7ab22d9c1ef",
   "metadata": {},
   "outputs": [],
   "source": [
    "import pandas as pd\n",
    "\n",
    "data = pd.read_csv(\"Veret_sales_data.csv\")"
   ]
  },
  {
   "cell_type": "code",
   "execution_count": 4,
   "id": "a657939a-e9fa-4db8-96c5-546c6b9ce43b",
   "metadata": {},
   "outputs": [
    {
     "data": {
      "text/html": [
       "<div>\n",
       "<style scoped>\n",
       "    .dataframe tbody tr th:only-of-type {\n",
       "        vertical-align: middle;\n",
       "    }\n",
       "\n",
       "    .dataframe tbody tr th {\n",
       "        vertical-align: top;\n",
       "    }\n",
       "\n",
       "    .dataframe thead th {\n",
       "        text-align: right;\n",
       "    }\n",
       "</style>\n",
       "<table border=\"1\" class=\"dataframe\">\n",
       "  <thead>\n",
       "    <tr style=\"text-align: right;\">\n",
       "      <th></th>\n",
       "      <th>ID Vente</th>\n",
       "      <th>Date Vente</th>\n",
       "      <th>Client ID</th>\n",
       "      <th>Produit</th>\n",
       "      <th>Quantité</th>\n",
       "      <th>Prix Unitaire</th>\n",
       "      <th>Montant Total</th>\n",
       "      <th>Méthode de Paiement</th>\n",
       "      <th>Region</th>\n",
       "    </tr>\n",
       "  </thead>\n",
       "  <tbody>\n",
       "    <tr>\n",
       "      <th>0</th>\n",
       "      <td>1</td>\n",
       "      <td>2024-08-11</td>\n",
       "      <td>C00959</td>\n",
       "      <td>Tablette</td>\n",
       "      <td>4</td>\n",
       "      <td>144</td>\n",
       "      <td>576</td>\n",
       "      <td>Virement</td>\n",
       "      <td>Royaume-Uni</td>\n",
       "    </tr>\n",
       "    <tr>\n",
       "      <th>1</th>\n",
       "      <td>2</td>\n",
       "      <td>2024-11-10</td>\n",
       "      <td>C00315</td>\n",
       "      <td>Enceinte Bluetooth</td>\n",
       "      <td>5</td>\n",
       "      <td>266</td>\n",
       "      <td>1330</td>\n",
       "      <td>Virement</td>\n",
       "      <td>Allemagne</td>\n",
       "    </tr>\n",
       "    <tr>\n",
       "      <th>2</th>\n",
       "      <td>3</td>\n",
       "      <td>2024-06-16</td>\n",
       "      <td>C00081</td>\n",
       "      <td>Casque Audio</td>\n",
       "      <td>4</td>\n",
       "      <td>99</td>\n",
       "      <td>396</td>\n",
       "      <td>Carte</td>\n",
       "      <td>Inde</td>\n",
       "    </tr>\n",
       "    <tr>\n",
       "      <th>3</th>\n",
       "      <td>4</td>\n",
       "      <td>2024-02-26</td>\n",
       "      <td>C00998</td>\n",
       "      <td>Disque Dur Externe</td>\n",
       "      <td>4</td>\n",
       "      <td>220</td>\n",
       "      <td>880</td>\n",
       "      <td>Espèce</td>\n",
       "      <td>Brésil</td>\n",
       "    </tr>\n",
       "    <tr>\n",
       "      <th>4</th>\n",
       "      <td>5</td>\n",
       "      <td>2024-08-08</td>\n",
       "      <td>C00858</td>\n",
       "      <td>Tablette</td>\n",
       "      <td>1</td>\n",
       "      <td>177</td>\n",
       "      <td>177</td>\n",
       "      <td>Chèque</td>\n",
       "      <td>Allemagne</td>\n",
       "    </tr>\n",
       "  </tbody>\n",
       "</table>\n",
       "</div>"
      ],
      "text/plain": [
       "   ID Vente  Date Vente Client ID             Produit  Quantité  \\\n",
       "0         1  2024-08-11    C00959            Tablette         4   \n",
       "1         2  2024-11-10    C00315  Enceinte Bluetooth         5   \n",
       "2         3  2024-06-16    C00081        Casque Audio         4   \n",
       "3         4  2024-02-26    C00998  Disque Dur Externe         4   \n",
       "4         5  2024-08-08    C00858            Tablette         1   \n",
       "\n",
       "   Prix Unitaire  Montant Total Méthode de Paiement       Region  \n",
       "0            144            576            Virement  Royaume-Uni  \n",
       "1            266           1330            Virement    Allemagne  \n",
       "2             99            396               Carte         Inde  \n",
       "3            220            880              Espèce       Brésil  \n",
       "4            177            177              Chèque    Allemagne  "
      ]
     },
     "execution_count": 4,
     "metadata": {},
     "output_type": "execute_result"
    }
   ],
   "source": [
    "data.head()"
   ]
  },
  {
   "cell_type": "markdown",
   "id": "5d7ed7f8-0552-4647-9aea-64d66f7f3caf",
   "metadata": {},
   "source": [
    "## Nettoyage du dataframe"
   ]
  },
  {
   "cell_type": "code",
   "execution_count": 4,
   "id": "1075881d-74ea-4ffc-aafc-a92021e492ec",
   "metadata": {},
   "outputs": [
    {
     "data": {
      "text/plain": [
       "(100000, 9)"
      ]
     },
     "execution_count": 4,
     "metadata": {},
     "output_type": "execute_result"
    }
   ],
   "source": [
    "data.shape"
   ]
  },
  {
   "cell_type": "code",
   "execution_count": 5,
   "id": "3d7ea739-158e-4549-a695-b3d5e323a5f3",
   "metadata": {},
   "outputs": [
    {
     "data": {
      "text/plain": [
       "ID Vente                int64\n",
       "Date Vente             object\n",
       "Client ID              object\n",
       "Produit                object\n",
       "Quantité                int64\n",
       "Prix Unitaire           int64\n",
       "Montant Total           int64\n",
       "Méthode de Paiement    object\n",
       "Region                 object\n",
       "dtype: object"
      ]
     },
     "execution_count": 5,
     "metadata": {},
     "output_type": "execute_result"
    }
   ],
   "source": [
    "data.dtypes"
   ]
  },
  {
   "cell_type": "code",
   "execution_count": 6,
   "id": "744b8e9e-cf83-471c-b7e3-a6aecc267c9e",
   "metadata": {},
   "outputs": [
    {
     "name": "stdout",
     "output_type": "stream",
     "text": [
      "<class 'pandas.core.frame.DataFrame'>\n",
      "RangeIndex: 100000 entries, 0 to 99999\n",
      "Data columns (total 9 columns):\n",
      " #   Column               Non-Null Count   Dtype \n",
      "---  ------               --------------   ----- \n",
      " 0   ID Vente             100000 non-null  int64 \n",
      " 1   Date Vente           100000 non-null  object\n",
      " 2   Client ID            100000 non-null  object\n",
      " 3   Produit              100000 non-null  object\n",
      " 4   Quantité             100000 non-null  int64 \n",
      " 5   Prix Unitaire        100000 non-null  int64 \n",
      " 6   Montant Total        100000 non-null  int64 \n",
      " 7   Méthode de Paiement  100000 non-null  object\n",
      " 8   Region               100000 non-null  object\n",
      "dtypes: int64(4), object(5)\n",
      "memory usage: 6.9+ MB\n"
     ]
    }
   ],
   "source": [
    "data.info()"
   ]
  },
  {
   "cell_type": "code",
   "execution_count": 8,
   "id": "43a6e5ed-a261-40cc-aabe-fa649b86f816",
   "metadata": {},
   "outputs": [
    {
     "data": {
      "text/html": [
       "<div>\n",
       "<style scoped>\n",
       "    .dataframe tbody tr th:only-of-type {\n",
       "        vertical-align: middle;\n",
       "    }\n",
       "\n",
       "    .dataframe tbody tr th {\n",
       "        vertical-align: top;\n",
       "    }\n",
       "\n",
       "    .dataframe thead th {\n",
       "        text-align: right;\n",
       "    }\n",
       "</style>\n",
       "<table border=\"1\" class=\"dataframe\">\n",
       "  <thead>\n",
       "    <tr style=\"text-align: right;\">\n",
       "      <th></th>\n",
       "      <th>ID Vente</th>\n",
       "      <th>Date Vente</th>\n",
       "      <th>Client ID</th>\n",
       "      <th>Produit</th>\n",
       "      <th>Quantité</th>\n",
       "      <th>Prix Unitaire</th>\n",
       "      <th>Montant Total</th>\n",
       "      <th>Méthode de Paiement</th>\n",
       "      <th>Region</th>\n",
       "    </tr>\n",
       "  </thead>\n",
       "  <tbody>\n",
       "  </tbody>\n",
       "</table>\n",
       "</div>"
      ],
      "text/plain": [
       "Empty DataFrame\n",
       "Columns: [ID Vente, Date Vente, Client ID, Produit, Quantité, Prix Unitaire, Montant Total, Méthode de Paiement, Region]\n",
       "Index: []"
      ]
     },
     "execution_count": 8,
     "metadata": {},
     "output_type": "execute_result"
    }
   ],
   "source": [
    "data[data.duplicated()]"
   ]
  },
  {
   "cell_type": "markdown",
   "id": "7eb4c1a7-5371-473c-b145-579354a8a10c",
   "metadata": {},
   "source": [
    "## Vente par produit"
   ]
  },
  {
   "cell_type": "markdown",
   "id": "45dae216-232c-4394-9ab0-c77f3e2ac5d9",
   "metadata": {},
   "source": [
    "### Q.1. Calculer les ventes totales pour chaque produit (en termes de montant total et quantité)"
   ]
  },
  {
   "cell_type": "code",
   "execution_count": 13,
   "id": "04fa8dcd-a2b2-43af-a739-117bc151b887",
   "metadata": {},
   "outputs": [
    {
     "data": {
      "text/html": [
       "<div>\n",
       "<style scoped>\n",
       "    .dataframe tbody tr th:only-of-type {\n",
       "        vertical-align: middle;\n",
       "    }\n",
       "\n",
       "    .dataframe tbody tr th {\n",
       "        vertical-align: top;\n",
       "    }\n",
       "\n",
       "    .dataframe thead th {\n",
       "        text-align: right;\n",
       "    }\n",
       "</style>\n",
       "<table border=\"1\" class=\"dataframe\">\n",
       "  <thead>\n",
       "    <tr style=\"text-align: right;\">\n",
       "      <th></th>\n",
       "      <th>Quantité</th>\n",
       "      <th>Montant Total</th>\n",
       "    </tr>\n",
       "    <tr>\n",
       "      <th>Produit</th>\n",
       "      <th></th>\n",
       "      <th></th>\n",
       "    </tr>\n",
       "  </thead>\n",
       "  <tbody>\n",
       "    <tr>\n",
       "      <th>Casque Audio</th>\n",
       "      <td>54771</td>\n",
       "      <td>13918643</td>\n",
       "    </tr>\n",
       "    <tr>\n",
       "      <th>Chargeur Sans Fil</th>\n",
       "      <td>55615</td>\n",
       "      <td>14253916</td>\n",
       "    </tr>\n",
       "    <tr>\n",
       "      <th>Clé USB</th>\n",
       "      <td>55741</td>\n",
       "      <td>14202023</td>\n",
       "    </tr>\n",
       "    <tr>\n",
       "      <th>Disque Dur Externe</th>\n",
       "      <td>54388</td>\n",
       "      <td>13748813</td>\n",
       "    </tr>\n",
       "    <tr>\n",
       "      <th>Enceinte Bluetooth</th>\n",
       "      <td>54734</td>\n",
       "      <td>14083176</td>\n",
       "    </tr>\n",
       "    <tr>\n",
       "      <th>Montre Connectée</th>\n",
       "      <td>55264</td>\n",
       "      <td>14009256</td>\n",
       "    </tr>\n",
       "    <tr>\n",
       "      <th>Ordinateur Portable</th>\n",
       "      <td>55811</td>\n",
       "      <td>14168804</td>\n",
       "    </tr>\n",
       "    <tr>\n",
       "      <th>Smartphone</th>\n",
       "      <td>54803</td>\n",
       "      <td>13771503</td>\n",
       "    </tr>\n",
       "    <tr>\n",
       "      <th>Tablette</th>\n",
       "      <td>54733</td>\n",
       "      <td>13985502</td>\n",
       "    </tr>\n",
       "    <tr>\n",
       "      <th>Écouteurs</th>\n",
       "      <td>54375</td>\n",
       "      <td>13955394</td>\n",
       "    </tr>\n",
       "  </tbody>\n",
       "</table>\n",
       "</div>"
      ],
      "text/plain": [
       "                     Quantité  Montant Total\n",
       "Produit                                     \n",
       "Casque Audio            54771       13918643\n",
       "Chargeur Sans Fil       55615       14253916\n",
       "Clé USB                 55741       14202023\n",
       "Disque Dur Externe      54388       13748813\n",
       "Enceinte Bluetooth      54734       14083176\n",
       "Montre Connectée        55264       14009256\n",
       "Ordinateur Portable     55811       14168804\n",
       "Smartphone              54803       13771503\n",
       "Tablette                54733       13985502\n",
       "Écouteurs               54375       13955394"
      ]
     },
     "execution_count": 13,
     "metadata": {},
     "output_type": "execute_result"
    }
   ],
   "source": [
    "max_sales = data.groupby('Produit').agg({'Quantité': 'sum', 'Montant Total': 'sum'})\n",
    "max_sales"
   ]
  },
  {
   "cell_type": "markdown",
   "id": "80e6b0bd-ebcd-4a2f-a545-56c7197ef82d",
   "metadata": {},
   "source": [
    "### Q.3 Produit le plus vendu en termes de quantité"
   ]
  },
  {
   "cell_type": "code",
   "execution_count": 21,
   "id": "8fa8a423-a90f-4535-9858-3ac0849c21fa",
   "metadata": {},
   "outputs": [
    {
     "data": {
      "text/html": [
       "<div>\n",
       "<style scoped>\n",
       "    .dataframe tbody tr th:only-of-type {\n",
       "        vertical-align: middle;\n",
       "    }\n",
       "\n",
       "    .dataframe tbody tr th {\n",
       "        vertical-align: top;\n",
       "    }\n",
       "\n",
       "    .dataframe thead th {\n",
       "        text-align: right;\n",
       "    }\n",
       "</style>\n",
       "<table border=\"1\" class=\"dataframe\">\n",
       "  <thead>\n",
       "    <tr style=\"text-align: right;\">\n",
       "      <th></th>\n",
       "      <th>Quantité</th>\n",
       "      <th>Montant Total</th>\n",
       "    </tr>\n",
       "    <tr>\n",
       "      <th>Produit</th>\n",
       "      <th></th>\n",
       "      <th></th>\n",
       "    </tr>\n",
       "  </thead>\n",
       "  <tbody>\n",
       "    <tr>\n",
       "      <th>Ordinateur Portable</th>\n",
       "      <td>55811</td>\n",
       "      <td>14168804</td>\n",
       "    </tr>\n",
       "  </tbody>\n",
       "</table>\n",
       "</div>"
      ],
      "text/plain": [
       "                     Quantité  Montant Total\n",
       "Produit                                     \n",
       "Ordinateur Portable     55811       14168804"
      ]
     },
     "execution_count": 21,
     "metadata": {},
     "output_type": "execute_result"
    }
   ],
   "source": [
    "max_sales[max_sales['Quantité'] == max_sales['Quantité'].max()]"
   ]
  },
  {
   "cell_type": "markdown",
   "id": "4ce53ec7-3ee5-40ff-adef-a2ff38654587",
   "metadata": {},
   "source": [
    "### Q.4 Produit qui a généré le plus de revenu"
   ]
  },
  {
   "cell_type": "code",
   "execution_count": 23,
   "id": "693c59d6-e7ff-45cd-8f04-ed2ac768474d",
   "metadata": {},
   "outputs": [
    {
     "data": {
      "text/html": [
       "<div>\n",
       "<style scoped>\n",
       "    .dataframe tbody tr th:only-of-type {\n",
       "        vertical-align: middle;\n",
       "    }\n",
       "\n",
       "    .dataframe tbody tr th {\n",
       "        vertical-align: top;\n",
       "    }\n",
       "\n",
       "    .dataframe thead th {\n",
       "        text-align: right;\n",
       "    }\n",
       "</style>\n",
       "<table border=\"1\" class=\"dataframe\">\n",
       "  <thead>\n",
       "    <tr style=\"text-align: right;\">\n",
       "      <th></th>\n",
       "      <th>Quantité</th>\n",
       "      <th>Montant Total</th>\n",
       "    </tr>\n",
       "    <tr>\n",
       "      <th>Produit</th>\n",
       "      <th></th>\n",
       "      <th></th>\n",
       "    </tr>\n",
       "  </thead>\n",
       "  <tbody>\n",
       "    <tr>\n",
       "      <th>Chargeur Sans Fil</th>\n",
       "      <td>55615</td>\n",
       "      <td>14253916</td>\n",
       "    </tr>\n",
       "  </tbody>\n",
       "</table>\n",
       "</div>"
      ],
      "text/plain": [
       "                   Quantité  Montant Total\n",
       "Produit                                   \n",
       "Chargeur Sans Fil     55615       14253916"
      ]
     },
     "execution_count": 23,
     "metadata": {},
     "output_type": "execute_result"
    }
   ],
   "source": [
    "max_sales[max_sales['Montant Total'] == max_sales['Montant Total'].max()]"
   ]
  },
  {
   "cell_type": "markdown",
   "id": "ccb8ed60-7030-4713-bbe0-cb2e8706b15e",
   "metadata": {},
   "source": [
    "## Vente par région"
   ]
  },
  {
   "cell_type": "markdown",
   "id": "9bf54e60-b7ff-47ea-85bf-76276aa24359",
   "metadata": {},
   "source": [
    "### Q1. Analyser les ventes totales par région"
   ]
  },
  {
   "cell_type": "code",
   "execution_count": 27,
   "id": "33d41761-8a91-4e90-88df-936c0c8b511f",
   "metadata": {},
   "outputs": [
    {
     "data": {
      "text/html": [
       "<div>\n",
       "<style scoped>\n",
       "    .dataframe tbody tr th:only-of-type {\n",
       "        vertical-align: middle;\n",
       "    }\n",
       "\n",
       "    .dataframe tbody tr th {\n",
       "        vertical-align: top;\n",
       "    }\n",
       "\n",
       "    .dataframe thead th {\n",
       "        text-align: right;\n",
       "    }\n",
       "</style>\n",
       "<table border=\"1\" class=\"dataframe\">\n",
       "  <thead>\n",
       "    <tr style=\"text-align: right;\">\n",
       "      <th></th>\n",
       "      <th>Montant Total</th>\n",
       "    </tr>\n",
       "    <tr>\n",
       "      <th>Region</th>\n",
       "      <th></th>\n",
       "    </tr>\n",
       "  </thead>\n",
       "  <tbody>\n",
       "    <tr>\n",
       "      <th>Canada</th>\n",
       "      <td>14300483</td>\n",
       "    </tr>\n",
       "    <tr>\n",
       "      <th>Italie</th>\n",
       "      <td>14193896</td>\n",
       "    </tr>\n",
       "    <tr>\n",
       "      <th>Brésil</th>\n",
       "      <td>14181462</td>\n",
       "    </tr>\n",
       "    <tr>\n",
       "      <th>États-Unis</th>\n",
       "      <td>14176350</td>\n",
       "    </tr>\n",
       "    <tr>\n",
       "      <th>Inde</th>\n",
       "      <td>14128942</td>\n",
       "    </tr>\n",
       "    <tr>\n",
       "      <th>Allemagne</th>\n",
       "      <td>14050472</td>\n",
       "    </tr>\n",
       "    <tr>\n",
       "      <th>Royaume-Uni</th>\n",
       "      <td>13950024</td>\n",
       "    </tr>\n",
       "    <tr>\n",
       "      <th>France</th>\n",
       "      <td>13925467</td>\n",
       "    </tr>\n",
       "    <tr>\n",
       "      <th>Australie</th>\n",
       "      <td>13888832</td>\n",
       "    </tr>\n",
       "    <tr>\n",
       "      <th>Espagne</th>\n",
       "      <td>13301102</td>\n",
       "    </tr>\n",
       "  </tbody>\n",
       "</table>\n",
       "</div>"
      ],
      "text/plain": [
       "             Montant Total\n",
       "Region                    \n",
       "Canada            14300483\n",
       "Italie            14193896\n",
       "Brésil            14181462\n",
       "États-Unis        14176350\n",
       "Inde              14128942\n",
       "Allemagne         14050472\n",
       "Royaume-Uni       13950024\n",
       "France            13925467\n",
       "Australie         13888832\n",
       "Espagne           13301102"
      ]
     },
     "execution_count": 27,
     "metadata": {},
     "output_type": "execute_result"
    }
   ],
   "source": [
    "region_ventes = data.groupby('Region').agg({'Montant Total': 'sum'})\n",
    "region_ventes.sort_values(by=\"Montant Total\", ascending=False)"
   ]
  },
  {
   "cell_type": "markdown",
   "id": "eb1349ef-e8e1-49dc-8374-b17314069e1b",
   "metadata": {},
   "source": [
    "## Analyse temporelle"
   ]
  },
  {
   "cell_type": "markdown",
   "id": "e9b9a05d-eb93-4d7a-9a96-786d3cd9a1d7",
   "metadata": {},
   "source": [
    "### Q.1.Identifier les mois avec les ventes les plus élevées"
   ]
  },
  {
   "cell_type": "code",
   "execution_count": 28,
   "id": "ee9089cc-cec3-443a-9496-78eb7b6ae2b0",
   "metadata": {},
   "outputs": [
    {
     "data": {
      "text/html": [
       "<div>\n",
       "<style scoped>\n",
       "    .dataframe tbody tr th:only-of-type {\n",
       "        vertical-align: middle;\n",
       "    }\n",
       "\n",
       "    .dataframe tbody tr th {\n",
       "        vertical-align: top;\n",
       "    }\n",
       "\n",
       "    .dataframe thead th {\n",
       "        text-align: right;\n",
       "    }\n",
       "</style>\n",
       "<table border=\"1\" class=\"dataframe\">\n",
       "  <thead>\n",
       "    <tr style=\"text-align: right;\">\n",
       "      <th></th>\n",
       "      <th>ID Vente</th>\n",
       "      <th>Date Vente</th>\n",
       "      <th>Client ID</th>\n",
       "      <th>Produit</th>\n",
       "      <th>Quantité</th>\n",
       "      <th>Prix Unitaire</th>\n",
       "      <th>Montant Total</th>\n",
       "      <th>Méthode de Paiement</th>\n",
       "      <th>Region</th>\n",
       "    </tr>\n",
       "  </thead>\n",
       "  <tbody>\n",
       "    <tr>\n",
       "      <th>0</th>\n",
       "      <td>1</td>\n",
       "      <td>2024-08-11</td>\n",
       "      <td>C00959</td>\n",
       "      <td>Tablette</td>\n",
       "      <td>4</td>\n",
       "      <td>144</td>\n",
       "      <td>576</td>\n",
       "      <td>Virement</td>\n",
       "      <td>Royaume-Uni</td>\n",
       "    </tr>\n",
       "    <tr>\n",
       "      <th>1</th>\n",
       "      <td>2</td>\n",
       "      <td>2024-11-10</td>\n",
       "      <td>C00315</td>\n",
       "      <td>Enceinte Bluetooth</td>\n",
       "      <td>5</td>\n",
       "      <td>266</td>\n",
       "      <td>1330</td>\n",
       "      <td>Virement</td>\n",
       "      <td>Allemagne</td>\n",
       "    </tr>\n",
       "    <tr>\n",
       "      <th>2</th>\n",
       "      <td>3</td>\n",
       "      <td>2024-06-16</td>\n",
       "      <td>C00081</td>\n",
       "      <td>Casque Audio</td>\n",
       "      <td>4</td>\n",
       "      <td>99</td>\n",
       "      <td>396</td>\n",
       "      <td>Carte</td>\n",
       "      <td>Inde</td>\n",
       "    </tr>\n",
       "    <tr>\n",
       "      <th>3</th>\n",
       "      <td>4</td>\n",
       "      <td>2024-02-26</td>\n",
       "      <td>C00998</td>\n",
       "      <td>Disque Dur Externe</td>\n",
       "      <td>4</td>\n",
       "      <td>220</td>\n",
       "      <td>880</td>\n",
       "      <td>Espèce</td>\n",
       "      <td>Brésil</td>\n",
       "    </tr>\n",
       "    <tr>\n",
       "      <th>4</th>\n",
       "      <td>5</td>\n",
       "      <td>2024-08-08</td>\n",
       "      <td>C00858</td>\n",
       "      <td>Tablette</td>\n",
       "      <td>1</td>\n",
       "      <td>177</td>\n",
       "      <td>177</td>\n",
       "      <td>Chèque</td>\n",
       "      <td>Allemagne</td>\n",
       "    </tr>\n",
       "  </tbody>\n",
       "</table>\n",
       "</div>"
      ],
      "text/plain": [
       "   ID Vente  Date Vente Client ID             Produit  Quantité  \\\n",
       "0         1  2024-08-11    C00959            Tablette         4   \n",
       "1         2  2024-11-10    C00315  Enceinte Bluetooth         5   \n",
       "2         3  2024-06-16    C00081        Casque Audio         4   \n",
       "3         4  2024-02-26    C00998  Disque Dur Externe         4   \n",
       "4         5  2024-08-08    C00858            Tablette         1   \n",
       "\n",
       "   Prix Unitaire  Montant Total Méthode de Paiement       Region  \n",
       "0            144            576            Virement  Royaume-Uni  \n",
       "1            266           1330            Virement    Allemagne  \n",
       "2             99            396               Carte         Inde  \n",
       "3            220            880              Espèce       Brésil  \n",
       "4            177            177              Chèque    Allemagne  "
      ]
     },
     "execution_count": 28,
     "metadata": {},
     "output_type": "execute_result"
    }
   ],
   "source": [
    "data.head()"
   ]
  },
  {
   "cell_type": "markdown",
   "id": "d02778e7-f00a-4c2d-87c6-b16550b97dd8",
   "metadata": {},
   "source": [
    "#### Créer une colonne avec les mois uniquement"
   ]
  },
  {
   "cell_type": "code",
   "execution_count": 29,
   "id": "94ab307a-8085-430c-ad8d-11ae5cec1700",
   "metadata": {},
   "outputs": [
    {
     "data": {
      "text/plain": [
       "ID Vente                int64\n",
       "Date Vente             object\n",
       "Client ID              object\n",
       "Produit                object\n",
       "Quantité                int64\n",
       "Prix Unitaire           int64\n",
       "Montant Total           int64\n",
       "Méthode de Paiement    object\n",
       "Region                 object\n",
       "dtype: object"
      ]
     },
     "execution_count": 29,
     "metadata": {},
     "output_type": "execute_result"
    }
   ],
   "source": [
    "data.dtypes"
   ]
  },
  {
   "cell_type": "code",
   "execution_count": 30,
   "id": "5c0db5d6-9b65-43e1-9b48-14e22503a131",
   "metadata": {},
   "outputs": [],
   "source": [
    "data['Month'] = pd.to_datetime(data['Date Vente'])"
   ]
  },
  {
   "cell_type": "code",
   "execution_count": 31,
   "id": "f9d502d1-74cb-4d41-a94b-2a2efa80cdcc",
   "metadata": {},
   "outputs": [
    {
     "data": {
      "text/html": [
       "<div>\n",
       "<style scoped>\n",
       "    .dataframe tbody tr th:only-of-type {\n",
       "        vertical-align: middle;\n",
       "    }\n",
       "\n",
       "    .dataframe tbody tr th {\n",
       "        vertical-align: top;\n",
       "    }\n",
       "\n",
       "    .dataframe thead th {\n",
       "        text-align: right;\n",
       "    }\n",
       "</style>\n",
       "<table border=\"1\" class=\"dataframe\">\n",
       "  <thead>\n",
       "    <tr style=\"text-align: right;\">\n",
       "      <th></th>\n",
       "      <th>ID Vente</th>\n",
       "      <th>Date Vente</th>\n",
       "      <th>Client ID</th>\n",
       "      <th>Produit</th>\n",
       "      <th>Quantité</th>\n",
       "      <th>Prix Unitaire</th>\n",
       "      <th>Montant Total</th>\n",
       "      <th>Méthode de Paiement</th>\n",
       "      <th>Region</th>\n",
       "      <th>Month</th>\n",
       "    </tr>\n",
       "  </thead>\n",
       "  <tbody>\n",
       "    <tr>\n",
       "      <th>0</th>\n",
       "      <td>1</td>\n",
       "      <td>2024-08-11</td>\n",
       "      <td>C00959</td>\n",
       "      <td>Tablette</td>\n",
       "      <td>4</td>\n",
       "      <td>144</td>\n",
       "      <td>576</td>\n",
       "      <td>Virement</td>\n",
       "      <td>Royaume-Uni</td>\n",
       "      <td>2024-08-11</td>\n",
       "    </tr>\n",
       "    <tr>\n",
       "      <th>1</th>\n",
       "      <td>2</td>\n",
       "      <td>2024-11-10</td>\n",
       "      <td>C00315</td>\n",
       "      <td>Enceinte Bluetooth</td>\n",
       "      <td>5</td>\n",
       "      <td>266</td>\n",
       "      <td>1330</td>\n",
       "      <td>Virement</td>\n",
       "      <td>Allemagne</td>\n",
       "      <td>2024-11-10</td>\n",
       "    </tr>\n",
       "    <tr>\n",
       "      <th>2</th>\n",
       "      <td>3</td>\n",
       "      <td>2024-06-16</td>\n",
       "      <td>C00081</td>\n",
       "      <td>Casque Audio</td>\n",
       "      <td>4</td>\n",
       "      <td>99</td>\n",
       "      <td>396</td>\n",
       "      <td>Carte</td>\n",
       "      <td>Inde</td>\n",
       "      <td>2024-06-16</td>\n",
       "    </tr>\n",
       "    <tr>\n",
       "      <th>3</th>\n",
       "      <td>4</td>\n",
       "      <td>2024-02-26</td>\n",
       "      <td>C00998</td>\n",
       "      <td>Disque Dur Externe</td>\n",
       "      <td>4</td>\n",
       "      <td>220</td>\n",
       "      <td>880</td>\n",
       "      <td>Espèce</td>\n",
       "      <td>Brésil</td>\n",
       "      <td>2024-02-26</td>\n",
       "    </tr>\n",
       "    <tr>\n",
       "      <th>4</th>\n",
       "      <td>5</td>\n",
       "      <td>2024-08-08</td>\n",
       "      <td>C00858</td>\n",
       "      <td>Tablette</td>\n",
       "      <td>1</td>\n",
       "      <td>177</td>\n",
       "      <td>177</td>\n",
       "      <td>Chèque</td>\n",
       "      <td>Allemagne</td>\n",
       "      <td>2024-08-08</td>\n",
       "    </tr>\n",
       "  </tbody>\n",
       "</table>\n",
       "</div>"
      ],
      "text/plain": [
       "   ID Vente  Date Vente Client ID             Produit  Quantité  \\\n",
       "0         1  2024-08-11    C00959            Tablette         4   \n",
       "1         2  2024-11-10    C00315  Enceinte Bluetooth         5   \n",
       "2         3  2024-06-16    C00081        Casque Audio         4   \n",
       "3         4  2024-02-26    C00998  Disque Dur Externe         4   \n",
       "4         5  2024-08-08    C00858            Tablette         1   \n",
       "\n",
       "   Prix Unitaire  Montant Total Méthode de Paiement       Region      Month  \n",
       "0            144            576            Virement  Royaume-Uni 2024-08-11  \n",
       "1            266           1330            Virement    Allemagne 2024-11-10  \n",
       "2             99            396               Carte         Inde 2024-06-16  \n",
       "3            220            880              Espèce       Brésil 2024-02-26  \n",
       "4            177            177              Chèque    Allemagne 2024-08-08  "
      ]
     },
     "execution_count": 31,
     "metadata": {},
     "output_type": "execute_result"
    }
   ],
   "source": [
    "data.head()"
   ]
  },
  {
   "cell_type": "code",
   "execution_count": 32,
   "id": "20e21e4a-f257-4765-b17d-51a9ffde4fa9",
   "metadata": {},
   "outputs": [
    {
     "data": {
      "text/plain": [
       "ID Vente                        int64\n",
       "Date Vente                     object\n",
       "Client ID                      object\n",
       "Produit                        object\n",
       "Quantité                        int64\n",
       "Prix Unitaire                   int64\n",
       "Montant Total                   int64\n",
       "Méthode de Paiement            object\n",
       "Region                         object\n",
       "Month                  datetime64[ns]\n",
       "dtype: object"
      ]
     },
     "execution_count": 32,
     "metadata": {},
     "output_type": "execute_result"
    }
   ],
   "source": [
    "data.dtypes"
   ]
  },
  {
   "cell_type": "code",
   "execution_count": 33,
   "id": "b8948a3f-bd04-4144-b66a-2e7e0782f115",
   "metadata": {},
   "outputs": [],
   "source": [
    "data['Month_N'] = data['Month'].dt.month"
   ]
  },
  {
   "cell_type": "code",
   "execution_count": 34,
   "id": "07da6520-867e-40a9-b37b-7258e23aa3d1",
   "metadata": {},
   "outputs": [
    {
     "data": {
      "text/html": [
       "<div>\n",
       "<style scoped>\n",
       "    .dataframe tbody tr th:only-of-type {\n",
       "        vertical-align: middle;\n",
       "    }\n",
       "\n",
       "    .dataframe tbody tr th {\n",
       "        vertical-align: top;\n",
       "    }\n",
       "\n",
       "    .dataframe thead th {\n",
       "        text-align: right;\n",
       "    }\n",
       "</style>\n",
       "<table border=\"1\" class=\"dataframe\">\n",
       "  <thead>\n",
       "    <tr style=\"text-align: right;\">\n",
       "      <th></th>\n",
       "      <th>ID Vente</th>\n",
       "      <th>Date Vente</th>\n",
       "      <th>Client ID</th>\n",
       "      <th>Produit</th>\n",
       "      <th>Quantité</th>\n",
       "      <th>Prix Unitaire</th>\n",
       "      <th>Montant Total</th>\n",
       "      <th>Méthode de Paiement</th>\n",
       "      <th>Region</th>\n",
       "      <th>Month</th>\n",
       "      <th>Month_N</th>\n",
       "    </tr>\n",
       "  </thead>\n",
       "  <tbody>\n",
       "    <tr>\n",
       "      <th>0</th>\n",
       "      <td>1</td>\n",
       "      <td>2024-08-11</td>\n",
       "      <td>C00959</td>\n",
       "      <td>Tablette</td>\n",
       "      <td>4</td>\n",
       "      <td>144</td>\n",
       "      <td>576</td>\n",
       "      <td>Virement</td>\n",
       "      <td>Royaume-Uni</td>\n",
       "      <td>2024-08-11</td>\n",
       "      <td>8</td>\n",
       "    </tr>\n",
       "    <tr>\n",
       "      <th>1</th>\n",
       "      <td>2</td>\n",
       "      <td>2024-11-10</td>\n",
       "      <td>C00315</td>\n",
       "      <td>Enceinte Bluetooth</td>\n",
       "      <td>5</td>\n",
       "      <td>266</td>\n",
       "      <td>1330</td>\n",
       "      <td>Virement</td>\n",
       "      <td>Allemagne</td>\n",
       "      <td>2024-11-10</td>\n",
       "      <td>11</td>\n",
       "    </tr>\n",
       "    <tr>\n",
       "      <th>2</th>\n",
       "      <td>3</td>\n",
       "      <td>2024-06-16</td>\n",
       "      <td>C00081</td>\n",
       "      <td>Casque Audio</td>\n",
       "      <td>4</td>\n",
       "      <td>99</td>\n",
       "      <td>396</td>\n",
       "      <td>Carte</td>\n",
       "      <td>Inde</td>\n",
       "      <td>2024-06-16</td>\n",
       "      <td>6</td>\n",
       "    </tr>\n",
       "    <tr>\n",
       "      <th>3</th>\n",
       "      <td>4</td>\n",
       "      <td>2024-02-26</td>\n",
       "      <td>C00998</td>\n",
       "      <td>Disque Dur Externe</td>\n",
       "      <td>4</td>\n",
       "      <td>220</td>\n",
       "      <td>880</td>\n",
       "      <td>Espèce</td>\n",
       "      <td>Brésil</td>\n",
       "      <td>2024-02-26</td>\n",
       "      <td>2</td>\n",
       "    </tr>\n",
       "    <tr>\n",
       "      <th>4</th>\n",
       "      <td>5</td>\n",
       "      <td>2024-08-08</td>\n",
       "      <td>C00858</td>\n",
       "      <td>Tablette</td>\n",
       "      <td>1</td>\n",
       "      <td>177</td>\n",
       "      <td>177</td>\n",
       "      <td>Chèque</td>\n",
       "      <td>Allemagne</td>\n",
       "      <td>2024-08-08</td>\n",
       "      <td>8</td>\n",
       "    </tr>\n",
       "  </tbody>\n",
       "</table>\n",
       "</div>"
      ],
      "text/plain": [
       "   ID Vente  Date Vente Client ID             Produit  Quantité  \\\n",
       "0         1  2024-08-11    C00959            Tablette         4   \n",
       "1         2  2024-11-10    C00315  Enceinte Bluetooth         5   \n",
       "2         3  2024-06-16    C00081        Casque Audio         4   \n",
       "3         4  2024-02-26    C00998  Disque Dur Externe         4   \n",
       "4         5  2024-08-08    C00858            Tablette         1   \n",
       "\n",
       "   Prix Unitaire  Montant Total Méthode de Paiement       Region      Month  \\\n",
       "0            144            576            Virement  Royaume-Uni 2024-08-11   \n",
       "1            266           1330            Virement    Allemagne 2024-11-10   \n",
       "2             99            396               Carte         Inde 2024-06-16   \n",
       "3            220            880              Espèce       Brésil 2024-02-26   \n",
       "4            177            177              Chèque    Allemagne 2024-08-08   \n",
       "\n",
       "   Month_N  \n",
       "0        8  \n",
       "1       11  \n",
       "2        6  \n",
       "3        2  \n",
       "4        8  "
      ]
     },
     "execution_count": 34,
     "metadata": {},
     "output_type": "execute_result"
    }
   ],
   "source": [
    "data.head()"
   ]
  },
  {
   "cell_type": "code",
   "execution_count": 1,
   "id": "7d470691-b433-41b2-83f6-b9a44e36897d",
   "metadata": {},
   "outputs": [
    {
     "ename": "NameError",
     "evalue": "name 'data' is not defined",
     "output_type": "error",
     "traceback": [
      "\u001b[31m---------------------------------------------------------------------------\u001b[39m",
      "\u001b[31mNameError\u001b[39m                                 Traceback (most recent call last)",
      "\u001b[36mCell\u001b[39m\u001b[36m \u001b[39m\u001b[32mIn[1]\u001b[39m\u001b[32m, line 1\u001b[39m\n\u001b[32m----> \u001b[39m\u001b[32m1\u001b[39m month_sales = \u001b[43mdata\u001b[49m.groupby(\u001b[33m'\u001b[39m\u001b[33mMonth_N\u001b[39m\u001b[33m'\u001b[39m).agg({\u001b[33m'\u001b[39m\u001b[33mMontant Total\u001b[39m\u001b[33m'\u001b[39m: \u001b[33m'\u001b[39m\u001b[33msum\u001b[39m\u001b[33m'\u001b[39m})\n\u001b[32m      2\u001b[39m month_sales.sort_values(by=\u001b[33m'\u001b[39m\u001b[33mMontant Total\u001b[39m\u001b[33m'\u001b[39m, ascending=\u001b[38;5;28;01mFalse\u001b[39;00m)\n",
      "\u001b[31mNameError\u001b[39m: name 'data' is not defined"
     ]
    }
   ],
   "source": [
    "month_sales = data.groupby('Month_N').agg({'Montant Total': 'sum'})\n",
    "month_sales.sort_values(by='Montant Total', ascending=False)"
   ]
  },
  {
   "cell_type": "code",
   "execution_count": 42,
   "id": "004e4614-4431-4b2a-abac-55b16bd71fd2",
   "metadata": {},
   "outputs": [],
   "source": [
    "import seaborn as sns"
   ]
  },
  {
   "cell_type": "markdown",
   "id": "6a1a1373-e601-465d-96df-7ac1b5b9d6e1",
   "metadata": {},
   "source": [
    "## Analyser le nombre de ventes par client. Identifier les clients les plus fidèles (ceux ayant réalisé le plus d'achats)"
   ]
  },
  {
   "cell_type": "code",
   "execution_count": 6,
   "id": "6c5edde1-668f-4c47-a4ed-0278a09b9d98",
   "metadata": {},
   "outputs": [
    {
     "data": {
      "text/html": [
       "<div>\n",
       "<style scoped>\n",
       "    .dataframe tbody tr th:only-of-type {\n",
       "        vertical-align: middle;\n",
       "    }\n",
       "\n",
       "    .dataframe tbody tr th {\n",
       "        vertical-align: top;\n",
       "    }\n",
       "\n",
       "    .dataframe thead th {\n",
       "        text-align: right;\n",
       "    }\n",
       "</style>\n",
       "<table border=\"1\" class=\"dataframe\">\n",
       "  <thead>\n",
       "    <tr style=\"text-align: right;\">\n",
       "      <th></th>\n",
       "      <th>Quantité</th>\n",
       "      <th>Montant Total</th>\n",
       "    </tr>\n",
       "    <tr>\n",
       "      <th>Client ID</th>\n",
       "      <th></th>\n",
       "      <th></th>\n",
       "    </tr>\n",
       "  </thead>\n",
       "  <tbody>\n",
       "    <tr>\n",
       "      <th>C00001</th>\n",
       "      <td>636</td>\n",
       "      <td>156610</td>\n",
       "    </tr>\n",
       "    <tr>\n",
       "      <th>C00002</th>\n",
       "      <td>536</td>\n",
       "      <td>138650</td>\n",
       "    </tr>\n",
       "    <tr>\n",
       "      <th>C00003</th>\n",
       "      <td>558</td>\n",
       "      <td>145710</td>\n",
       "    </tr>\n",
       "    <tr>\n",
       "      <th>C00004</th>\n",
       "      <td>569</td>\n",
       "      <td>152953</td>\n",
       "    </tr>\n",
       "    <tr>\n",
       "      <th>C00005</th>\n",
       "      <td>573</td>\n",
       "      <td>150253</td>\n",
       "    </tr>\n",
       "    <tr>\n",
       "      <th>...</th>\n",
       "      <td>...</td>\n",
       "      <td>...</td>\n",
       "    </tr>\n",
       "    <tr>\n",
       "      <th>C00996</th>\n",
       "      <td>585</td>\n",
       "      <td>158180</td>\n",
       "    </tr>\n",
       "    <tr>\n",
       "      <th>C00997</th>\n",
       "      <td>434</td>\n",
       "      <td>119319</td>\n",
       "    </tr>\n",
       "    <tr>\n",
       "      <th>C00998</th>\n",
       "      <td>534</td>\n",
       "      <td>144642</td>\n",
       "    </tr>\n",
       "    <tr>\n",
       "      <th>C00999</th>\n",
       "      <td>571</td>\n",
       "      <td>130681</td>\n",
       "    </tr>\n",
       "    <tr>\n",
       "      <th>C01000</th>\n",
       "      <td>528</td>\n",
       "      <td>129671</td>\n",
       "    </tr>\n",
       "  </tbody>\n",
       "</table>\n",
       "<p>1000 rows × 2 columns</p>\n",
       "</div>"
      ],
      "text/plain": [
       "           Quantité  Montant Total\n",
       "Client ID                         \n",
       "C00001          636         156610\n",
       "C00002          536         138650\n",
       "C00003          558         145710\n",
       "C00004          569         152953\n",
       "C00005          573         150253\n",
       "...             ...            ...\n",
       "C00996          585         158180\n",
       "C00997          434         119319\n",
       "C00998          534         144642\n",
       "C00999          571         130681\n",
       "C01000          528         129671\n",
       "\n",
       "[1000 rows x 2 columns]"
      ]
     },
     "execution_count": 6,
     "metadata": {},
     "output_type": "execute_result"
    }
   ],
   "source": [
    "depense_par_clients = data.groupby('Client ID').agg({'Quantité': 'sum', 'Montant Total': 'sum'})\n",
    "depense_par_clients"
   ]
  },
  {
   "cell_type": "code",
   "execution_count": null,
   "id": "e8ee5044-3ebd-4f43-8695-50ee64776e5d",
   "metadata": {},
   "outputs": [],
   "source": []
  }
 ],
 "metadata": {
  "kernelspec": {
   "display_name": "Python 3",
   "language": "python",
   "name": "python3"
  },
  "language_info": {
   "codemirror_mode": {
    "name": "ipython",
    "version": 3
   },
   "file_extension": ".py",
   "mimetype": "text/x-python",
   "name": "python",
   "nbconvert_exporter": "python",
   "pygments_lexer": "ipython3",
   "version": "3.12.3"
  }
 },
 "nbformat": 4,
 "nbformat_minor": 5
}
