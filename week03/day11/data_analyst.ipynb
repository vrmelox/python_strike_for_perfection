{
 "cells": [
  {
   "cell_type": "code",
   "execution_count": 15,
   "id": "379b00d9-6e8e-49bc-9838-4c0e6c884fd6",
   "metadata": {
    "scrolled": true
   },
   "outputs": [
    {
     "name": "stdout",
     "output_type": "stream",
     "text": [
      "   ID                   Name  Age   Country  Purchase_Amount Date_of_Purchase  \\\n",
      "1   2  Mrs. Amanda Wilson MD   25     Congo           104.22       2023-08-06   \n",
      "2   3          Brandon Evans   52  Anguilla           482.30       2024-03-05   \n",
      "4   5           Donna Robles   72   Morocco           265.95       2023-04-09   \n",
      "5   6      Francisco Garrett   51     Sudan           449.27       2023-04-12   \n",
      "6   7         Roberto Macias   21  Pakistan           125.13       2024-03-22   \n",
      "\n",
      "   Feedback_Score  \n",
      "1               6  \n",
      "2               7  \n",
      "4               8  \n",
      "5               6  \n",
      "6               6  \n"
     ]
    }
   ],
   "source": [
    "import pandas as pd\n",
    "import matplotlib.pyplot as plt\n",
    "\n",
    "data = pd.read_csv(\"data.csv\")\n",
    "\n",
    "data.describe()\n",
    "\n",
    "depense_age = data[data[\"Feedback_Score\"] > 5]\n",
    "print(depense_age.head())"
   ]
  },
  {
   "cell_type": "code",
   "execution_count": null,
   "id": "55753029-fd19-445a-b3fb-3c62c7804270",
   "metadata": {},
   "outputs": [],
   "source": []
  }
 ],
 "metadata": {
  "kernelspec": {
   "display_name": "Python 3 (ipykernel)",
   "language": "python",
   "name": "python3"
  },
  "language_info": {
   "codemirror_mode": {
    "name": "ipython",
    "version": 3
   },
   "file_extension": ".py",
   "mimetype": "text/x-python",
   "name": "python",
   "nbconvert_exporter": "python",
   "pygments_lexer": "ipython3",
   "version": "3.12.3"
  }
 },
 "nbformat": 4,
 "nbformat_minor": 5
}
